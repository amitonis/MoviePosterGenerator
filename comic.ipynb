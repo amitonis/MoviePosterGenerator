{
 "cells": [
  {
   "cell_type": "code",
   "execution_count": null,
   "id": "0e169394-4aca-4347-94a3-8498b5e3dc61",
   "metadata": {},
   "outputs": [],
   "source": [
    "!pip install diffusers transformers torch torchvision matplotlib numpy reportlab"
   ]
  },
  {
   "cell_type": "code",
   "execution_count": null,
   "id": "7183dcf5-3ecd-4781-83e5-977b459b2610",
   "metadata": {},
   "outputs": [],
   "source": [
    "pip install pillow opencv-python numpy"
   ]
  },
  {
   "cell_type": "code",
   "execution_count": 10,
   "id": "aea62266-6c53-4d4e-aebc-e8bd981fa5d8",
   "metadata": {},
   "outputs": [
    {
     "data": {
      "application/vnd.jupyter.widget-view+json": {
       "model_id": "0a4a5c92927c4979b0762231cdb98d8e",
       "version_major": 2,
       "version_minor": 0
      },
      "text/plain": [
       "Loading pipeline components...:   0%|          | 0/6 [00:00<?, ?it/s]"
      ]
     },
     "metadata": {},
     "output_type": "display_data"
    },
    {
     "name": "stderr",
     "output_type": "stream",
     "text": [
      "An error occurred while trying to fetch C:\\Users\\amitm\\.cache\\huggingface\\hub\\models--ogkalu--Comic-Diffusion\\snapshots\\ff684f581ab24e094e2055d9422e9ee076d139a8\\unet: Error no file named diffusion_pytorch_model.safetensors found in directory C:\\Users\\amitm\\.cache\\huggingface\\hub\\models--ogkalu--Comic-Diffusion\\snapshots\\ff684f581ab24e094e2055d9422e9ee076d139a8\\unet.\n",
      "Defaulting to unsafe serialization. Pass `allow_pickle=False` to raise an error instead.\n",
      "An error occurred while trying to fetch C:\\Users\\amitm\\.cache\\huggingface\\hub\\models--ogkalu--Comic-Diffusion\\snapshots\\ff684f581ab24e094e2055d9422e9ee076d139a8\\vae: Error no file named diffusion_pytorch_model.safetensors found in directory C:\\Users\\amitm\\.cache\\huggingface\\hub\\models--ogkalu--Comic-Diffusion\\snapshots\\ff684f581ab24e094e2055d9422e9ee076d139a8\\vae.\n",
      "Defaulting to unsafe serialization. Pass `allow_pickle=False` to raise an error instead.\n",
      "You have disabled the safety checker for <class 'diffusers.pipelines.stable_diffusion.pipeline_stable_diffusion.StableDiffusionPipeline'> by passing `safety_checker=None`. Ensure that you abide to the conditions of the Stable Diffusion license and do not expose unfiltered results in services or applications open to the public. Both the diffusers team and Hugging Face strongly recommend to keep the safety filter enabled in all public facing circumstances, disabling it only for use-cases that involve analyzing network behavior or auditing its results. For more information, please have a look at https://github.com/huggingface/diffusers/pull/254 .\n"
     ]
    },
    {
     "name": "stdout",
     "output_type": "stream",
     "text": [
      " Model loaded successfully!\n"
     ]
    }
   ],
   "source": [
    "from diffusers import DiffusionPipeline\n",
    "import torch\n",
    "import gc\n",
    "\n",
    "# Free up GPU memory before loading the model\n",
    "torch.cuda.empty_cache()\n",
    "gc.collect()\n",
    "\n",
    "# Load Comic Diffusion Model with Optimized Settings\n",
    "model_id = \"ogkalu/Comic-Diffusion\"\n",
    "\n",
    "pipe = DiffusionPipeline.from_pretrained(\n",
    "    model_id,\n",
    "    torch_dtype=torch.float16,  # Use FP16 for lower memory\n",
    "    safety_checker=None,  # Disable safety checker for performance (Use responsibly)\n",
    ").to(\"cuda\")\n",
    "\n",
    "# Optimize for Low VRAM\n",
    "pipe.enable_attention_slicing()\n",
    "pipe.enable_sequential_cpu_offload()\n",
    "\n",
    "print(\" Model loaded successfully!\")"
   ]
  },
  {
   "cell_type": "code",
   "execution_count": 11,
   "id": "4e9e3964-d970-4fd7-96b0-8ccdbdf3e346",
   "metadata": {},
   "outputs": [
    {
     "name": "stdin",
     "output_type": "stream",
     "text": [
      "🎬 Enter a 25+ word movie description:  Attack on Titan follows Eren Yeager, a young man living in a world where humanity is on the brink of extinction due to giant humanoid creatures known as Titans that devour humans. After his hometown is destroyed and his mother is killed by Titans, Eren joins the military with his friends Mikasa Ackerman and Armin Arlert. As they uncover dark secrets about the Titans, they discover that their world is enclosed by massive walls to protect them, and Eren possesses the mysterious ability to transform into a Titan himself. As the story unfolds, the trio uncovers the truth about the Titans' origins, humanity's true history, and the political struggles within their own society. Eren's journey leads to intense battles, moral dilemmas, and the revelation of a global conspiracy. Ultimately, the conflict reaches a boiling point, where Eren and his allies must face the consequences of their actions and choices in a war that will determine the future of humanity.\n"
     ]
    }
   ],
   "source": [
    "#  Get user input\n",
    "movie_description = input(\"🎬 Enter a 25+ word movie description: \")"
   ]
  },
  {
   "cell_type": "code",
   "execution_count": 8,
   "id": "3ee65a88-cf5c-4b4b-975d-98201869eaa5",
   "metadata": {},
   "outputs": [
    {
     "name": "stderr",
     "output_type": "stream",
     "text": [
      "Token indices sequence length is longer than the specified maximum sequence length for this model (94 > 77). Running this sequence through the model will result in indexing errors\n",
      "The following part of your input was truncated because CLIP can only handle sequences up to 77 tokens: ['gallant blacksmith in love with elizabeth allies with sparrow in pursuit of the pirates .']\n"
     ]
    },
    {
     "data": {
      "application/vnd.jupyter.widget-view+json": {
       "model_id": "929227c9a55f4b13903dfb6f0efa7ff8",
       "version_major": 2,
       "version_minor": 0
      },
      "text/plain": [
       "  0%|          | 0/50 [00:00<?, ?it/s]"
      ]
     },
     "metadata": {},
     "output_type": "display_data"
    },
    {
     "name": "stdout",
     "output_type": "stream",
     "text": [
      "Movie Poster generated in 164.10 sec\n"
     ]
    }
   ],
   "source": [
    "import time\n",
    "\n",
    "# Generate Poster\n",
    "start_time = time.time()\n",
    "\n",
    "poster = pipe(\n",
    "    movie_description, \n",
    "    width=768,  # Higher quality resolution\n",
    "    height=1024, \n",
    "    num_inference_steps=50  # High-quality generation\n",
    ").images[0]\n",
    "\n",
    "# Save & Display Poster\n",
    "poster_path = \"movie_poster.png\"\n",
    "poster.save(poster_path)\n",
    "poster.show()\n",
    "\n",
    "print(f\"Movie Poster generated in {time.time() - start_time:.2f} sec\")"
   ]
  },
  {
   "cell_type": "code",
   "execution_count": null,
   "id": "edaa97e0-4771-4ee0-883b-fae4dd1d3a16",
   "metadata": {},
   "outputs": [],
   "source": [
    "from gpt4all import GPT4All\n",
    "\n",
    "# Download & Load the Model (Replace with a valid model name)\n",
    "gpt = GPT4All(\"mistral-7b-openorca.Q4_0.gguf\", allow_download=True)\n",
    "\n",
    "# Verify installation\n",
    "print(\"GPT4All Model Loaded Successfully!\")"
   ]
  },
  {
   "cell_type": "code",
   "execution_count": 9,
   "id": "095791ed-c925-4ab5-87f5-eaa43c2d5a55",
   "metadata": {},
   "outputs": [
    {
     "name": "stdout",
     "output_type": "stream",
     "text": [
      "🎬Generated Movie Title: \"Curse of the Undead Pirate\"\n",
      "🎬Generated Tagline: \"The Caribbean's Most Wanted - Captain Jack Sparrow and a Cursed Crew!\"\n",
      "Movie Poster saved as final_movie_poster.png\n"
     ]
    }
   ],
   "source": [
    "from gpt4all import GPT4All\n",
    "from PIL import Image, ImageDraw, ImageFont\n",
    "\n",
    "# Load GPT4All Model\n",
    "gpt = GPT4All(\"mistral-7b-openorca.Q4_0.gguf\")\n",
    "\n",
    "# Generate a Movie Title & Tagline\n",
    "prompt = f\"Generate a compelling movie title and tagline for this plot: {movie_description}\\n\\nTitle: \"\n",
    "response = gpt.generate(prompt)\n",
    "\n",
    "# Extract Title & Tagline\n",
    "lines = response.strip().split(\"\\n\")\n",
    "movie_title = lines[0].replace(\"Title:\", \"\").strip() if len(lines) > 0 else \"Unknown Title\"\n",
    "tagline = lines[1].replace(\"Tagline:\", \"\").strip() if len(lines) > 1 else \"Unknown Tagline\"\n",
    "\n",
    "print(f\"🎬Generated Movie Title: {movie_title}\")\n",
    "print(f\"🎬Generated Tagline: {tagline}\")\n",
    "\n",
    "# Load the Generated Movie Poster\n",
    "poster_path = \"movie_poster.png\"  # Path to the generated poster\n",
    "poster = Image.open(poster_path)\n",
    "\n",
    "# Convert Image to Editable Format\n",
    "draw = ImageDraw.Draw(poster)\n",
    "width, height = poster.size\n",
    "\n",
    "# Load Font (Uses default if arial.ttf not found)\n",
    "try:\n",
    "    title_font = ImageFont.truetype(\"arial.ttf\", 80)  # Large font for title\n",
    "    tagline_font = ImageFont.truetype(\"arial.ttf\", 40)  # Smaller font for tagline\n",
    "except:\n",
    "    title_font = ImageFont.load_default()\n",
    "    tagline_font = ImageFont.load_default()\n",
    "\n",
    "# Define Text Positions (Center Align)\n",
    "title_x = width // 2\n",
    "title_y = int(height * 0.1)  # Title at top\n",
    "\n",
    "tagline_x = width // 2\n",
    "tagline_y = int(height * 0.85)  # Tagline at bottom\n",
    "\n",
    "# Add AI-Generated Title & Tagline\n",
    "draw.text((title_x, title_y), movie_title, font=title_font, fill=\"white\", anchor=\"mm\")\n",
    "draw.text((tagline_x, tagline_y), tagline, font=tagline_font, fill=\"white\", anchor=\"mm\")\n",
    "\n",
    "# Save Final Poster with AI-Generated Text\n",
    "output_path = \"final_movie_poster.png\"\n",
    "poster.save(output_path)\n",
    "\n",
    "print(f\"Movie Poster saved as {output_path}\")\n",
    "poster.show()  # Display final poster"
   ]
  },
  {
   "cell_type": "code",
   "execution_count": null,
   "id": "68b09c20-050b-4eb7-874b-e9dbb7d12a43",
   "metadata": {},
   "outputs": [],
   "source": [
    "import torch\n",
    "print(\"PyTorch Version:\", torch.__version__)\n",
    "print(\"CUDA Available:\", torch.cuda.is_available())\n",
    "print(\"CUDA Device Count:\", torch.cuda.device_count())\n"
   ]
  }
 ],
 "metadata": {
  "kernelspec": {
   "display_name": "Python 3 (ipykernel)",
   "language": "python",
   "name": "python3"
  },
  "language_info": {
   "codemirror_mode": {
    "name": "ipython",
    "version": 3
   },
   "file_extension": ".py",
   "mimetype": "text/x-python",
   "name": "python",
   "nbconvert_exporter": "python",
   "pygments_lexer": "ipython3",
   "version": "3.11.9"
  }
 },
 "nbformat": 4,
 "nbformat_minor": 5
}
